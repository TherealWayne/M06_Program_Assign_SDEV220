{
 "cells": [
  {
   "cell_type": "code",
   "execution_count": 1,
   "id": "6c38dc94",
   "metadata": {},
   "outputs": [],
   "source": [
    "#13.1\n",
    "from datetime import date\n",
    "\n",
    "today = date.today()\n",
    "date_string = today.strftime(\"%Y-%m-%d\")\n",
    "\n",
    "with open(\"today.txt\", \"w\") as f:\n",
    "    f.write(date_string)\n"
   ]
  },
  {
   "cell_type": "code",
   "execution_count": 2,
   "id": "95d474cf",
   "metadata": {},
   "outputs": [],
   "source": [
    "#13.2\n",
    "with open(\"today.txt\", \"r\") as f:\n",
    "    today_string = f.read()\n"
   ]
  },
  {
   "cell_type": "code",
   "execution_count": 7,
   "id": "eaebd93f",
   "metadata": {},
   "outputs": [],
   "source": [
    "#13.3\n",
    "from datetime import datetime\n",
    "\n",
    "today_date = datetime.strptime(today_string, '%Y-%m-%d')\n"
   ]
  },
  {
   "cell_type": "code",
   "execution_count": 8,
   "id": "78b06765",
   "metadata": {},
   "outputs": [
    {
     "name": "stdout",
     "output_type": "stream",
     "text": [
      "Current time: 11:55:27.965870\n",
      "Current time: 11:55:28.193403\n",
      "Current time: 11:55:28.373292\n"
     ]
    }
   ],
   "source": [
    "#15.1\n",
    "import concurrent.futures\n",
    "import time\n",
    "import datetime\n",
    "import random\n",
    "\n",
    "def process_func():\n",
    "    # Generate a random number of seconds to wait between 0 and 1\n",
    "    wait_time = random.random()\n",
    "    \n",
    "    # Wait for the generated number of seconds\n",
    "    time.sleep(wait_time)\n",
    "    \n",
    "    # Print the current time\n",
    "    current_time = datetime.datetime.now().strftime(\"%H:%M:%S.%f\")\n",
    "    print(f\"Current time: {current_time}\")\n",
    "    \n",
    "if __name__ == \"__main__\":\n",
    "    # Create a thread pool with three threads\n",
    "    with concurrent.futures.ThreadPoolExecutor(max_workers=3) as executor:\n",
    "        # Submit three tasks to the thread pool\n",
    "        tasks = [executor.submit(process_func) for i in range(3)]\n",
    "    \n",
    "    # Wait for all tasks to complete\n",
    "    for task in concurrent.futures.as_completed(tasks):\n",
    "        result = task.result()\n"
   ]
  },
  {
   "cell_type": "code",
   "execution_count": null,
   "id": "0f0b0779",
   "metadata": {},
   "outputs": [],
   "source": []
  }
 ],
 "metadata": {
  "kernelspec": {
   "display_name": "Python 3 (ipykernel)",
   "language": "python",
   "name": "python3"
  },
  "language_info": {
   "codemirror_mode": {
    "name": "ipython",
    "version": 3
   },
   "file_extension": ".py",
   "mimetype": "text/x-python",
   "name": "python",
   "nbconvert_exporter": "python",
   "pygments_lexer": "ipython3",
   "version": "3.9.13"
  }
 },
 "nbformat": 4,
 "nbformat_minor": 5
}
